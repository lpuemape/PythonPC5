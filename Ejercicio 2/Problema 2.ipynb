{
 "cells": [
  {
   "cell_type": "code",
   "execution_count": null,
   "metadata": {},
   "outputs": [],
   "source": [
    "import pandas as pd\n",
    "\n",
    "# Lectura del dataset\n",
    "df = pd.read_csv('winemag-data-130k-v2.csv')\n",
    "\n",
    "# Renombramiento de columnas\n",
    "df.rename(columns={'country':'pais', 'region':'region', 'price':'precio', 'designation':'denominacion', 'variety':'variedad', 'winery':'bodega', 'points':'puntuacion', 'reviewer_name':'nombre_catador', 'review':'reseña'}, inplace=True)\n",
    "\n",
    "# Creación de nuevas columnas\n",
    "df['continente'] = paises_df.set_index('pais')['continente'].get(df['pais'])\n",
    "df['precio_promedio_pais'] = df.groupby('pais')['precio'].mean()\n",
    "df['cant_reseñas_pais'] = df.groupby('pais')['reseña'].count()\n",
    "\n",
    "# Reporte 1: Vinos mejor puntuados por continente\n",
    "vinos_mejor_puntuados_por_continente = df.groupby('continente').sort_values(by='puntuacion', ascending=False).head(1)\n",
    "print(vinos_mejor_puntuados_por_continente)\n",
    "\n",
    "# Reporte 2: Promedio de precio y cantidad de reseñas por país\n",
    "promedio_precio_cant_reseñas_pais = df.groupby('pais')[['precio', 'reseña']].agg({'precio':'mean', 'reseña':'count'})\n",
    "promedio_precio_cant_reseñas_pais_ordenado = promedio_precio_cant_reseñas_pais.sort_values(by='precio', ascending=False)\n",
    "print(promedio_precio_cant_reseñas_pais_ordenado)\n",
    "\n",
    "# Reporte 3: Distribución de puntuaciones por variedad de vino\n",
    "df.groupby('variedad')['puntuacion'].hist(bins=10)\n",
    "plt.show()\n",
    "\n",
    "# Reporte 4: Correlación entre precio y puntuación\n",
    "correlacion_precio_puntuacion = df['precio'].corr(df['puntuacion'])\n",
    "print(\"Correlación entre precio y puntuación:\", correlacion_precio_puntuacion)\n",
    "plt.scatter(df['precio'], df['puntuacion'])\n",
    "plt.xlabel('Precio')\n",
    "plt.ylabel('Puntuación')\n",
    "plt.show()\n",
    "\n",
    "# Almacenamiento de Reporte 2 en Excel\n",
    "promedio_precio_cant_reseñas_pais_ordenado.to_excel('promedio_precio_cant_reseñas_pais.xlsx')\n"
   ]
  }
 ],
 "metadata": {
  "kernelspec": {
   "display_name": "Python 3",
   "language": "python",
   "name": "python3"
  },
  "language_info": {
   "codemirror_mode": {
    "name": "ipython",
    "version": 3
   },
   "file_extension": ".py",
   "mimetype": "text/x-python",
   "name": "python",
   "nbconvert_exporter": "python",
   "pygments_lexer": "ipython3",
   "version": "3.10.13"
  }
 },
 "nbformat": 4,
 "nbformat_minor": 2
}
