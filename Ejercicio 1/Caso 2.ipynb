{
 "cells": [
  {
   "cell_type": "code",
   "execution_count": null,
   "metadata": {},
   "outputs": [],
   "source": [
    "import pandas as pd\n",
    "import openyxl\n",
    "\n",
    "# Cargar el dataset de Airbnb\n",
    "df_airbnb = pd.read_csv(\"data/airbnb.csv\")\n",
    "\n",
    "# Filtrar las casas de Roberto y Clara\n",
    "df_roberto = df_airbnb[df_airbnb[\"room_id\"] == 97503]\n",
    "df_clara = df_airbnb[df_airbnb[\"room_id\"] == 90387]\n",
    "\n",
    "# Calcular métricas de críticas\n",
    "df_roberto[\"criticas\"] = df_roberto[\"reviews\"]\n",
    "df_roberto[\"calificacion_promedio\"] = df_roberto[\"overall_satisfaction\"].mean()\n",
    "\n",
    "df_clara[\"criticas\"] = df_clara[\"reviews\"]\n",
    "df_clara[\"calificacion_promedio\"] = df_clara[\"overall_satisfaction\"].mean()\n",
    "\n",
    "# Unir los DataFrames\n",
    "df_comparacion = df_roberto.append(df_clara, ignore_index=True)\n",
    "\n",
    "# Ordenar el DataFrame combinado\n",
    "df_comparacion = df_comparacion.sort_values(by=[\"criticas\"], ascending=False)\n",
    "\n",
    "# Guardar el DataFrame como Excel\n",
    "wb = openpyxl.Workbook()\n",
    "ws = wb.active\n",
    "ws.title = \"Comparacion de Criticas\"\n",
    "\n",
    "# Escribir los encabezados de las columnas\n",
    "ws.cell(row=1, column=1).value = \"ID Casa\"\n",
    "ws.cell(row=1, column=2).value = \"Criticas\"\n",
    "ws.cell(row=1, column=3).value = \"Calificacion Promedio\"\n",
    "\n",
    "# Escribir los datos de las filas\n",
    "for i, row in df_comparacion.iterrows():\n",
    "    ws.cell(row=i + 2, column=1).value = row[\"room_id\"]\n",
    "    ws.cell(row=i + 2, column=2).value = row[\"criticas\"]\n",
    "    ws.cell(row=i + 2, column=3).value = row[\"calificacion_promedio\"]\n",
    "\n",
    "wb.save(\"roberto.xls\")\n"
   ]
  }
 ],
 "metadata": {
  "kernelspec": {
   "display_name": "Python 3",
   "language": "python",
   "name": "python3"
  },
  "language_info": {
   "codemirror_mode": {
    "name": "ipython",
    "version": 3
   },
   "file_extension": ".py",
   "mimetype": "text/x-python",
   "name": "python",
   "nbconvert_exporter": "python",
   "pygments_lexer": "ipython3",
   "version": "3.10.13"
  }
 },
 "nbformat": 4,
 "nbformat_minor": 2
}
