{
 "cells": [
  {
   "cell_type": "code",
   "execution_count": null,
   "metadata": {},
   "outputs": [],
   "source": [
    "import pandas as pd # type: ignore\n",
    "\n",
    "# Lectura del dataset\n",
    "df_airbnb = pd.read_csv(\"data/airbnb.csv\")\n",
    "\n",
    "# Filtrar alojamientos que cumplan con los criterios de Alicia\n",
    "alojamientos_filtrados = df_airbnb[(df_airbnb[\"bedrooms\"] >= 2) &\n",
    "                                 (df_airbnb[\"overall_satisfaction\"] > 4) &\n",
    "                                 (df_airbnb[\"reviews\"] > 10)]\n",
    "\n",
    "# Ordenar los alojamientos filtrados\n",
    "alojamientos_filtrados = alojamientos_filtrados.sort_values(by=[\"overall_satisfaction\"], ascending=False)\n",
    "alojamientos_filtrados = alojamientos_filtrados.sort_values(by=[\"reviews\"], ascending=False)\n",
    "\n",
    "# Seleccionar las 3 mejores opciones\n",
    "mejores_alojamientos = alojamientos_filtrados.head(3)\n",
    "\n",
    "# Mostrar los resultados\n",
    "for index, alojamiento in mejores_alojamientos.iterrows():\n",
    "    print(f\"\\n**Opción {index + 1}:**\")\n",
    "    print(f\"* Ubicación: {alojamiento['neighborhood']}\")\n",
    "    print(f\"* Calificación: {alojamiento['overall_satisfaction']:.2f} (Opiniones: {alojamiento['reviews']})\")\n",
    "    print(f\"* Precio: {alojamiento['price']:.2f}€ por noche\")\n",
    "    print(f\"* Más información: https://www.airbnb.com/help/article/1237\")\n"
   ]
  }
 ],
 "metadata": {
  "kernelspec": {
   "display_name": "Python 3",
   "language": "python",
   "name": "python3"
  },
  "language_info": {
   "codemirror_mode": {
    "name": "ipython",
    "version": 3
   },
   "file_extension": ".py",
   "mimetype": "text/x-python",
   "name": "python",
   "nbconvert_exporter": "python",
   "pygments_lexer": "ipython3",
   "version": "3.10.13"
  }
 },
 "nbformat": 4,
 "nbformat_minor": 2
}
