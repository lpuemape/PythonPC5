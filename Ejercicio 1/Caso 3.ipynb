{
 "cells": [
  {
   "cell_type": "code",
   "execution_count": null,
   "metadata": {},
   "outputs": [],
   "source": [
    "import pandas as pd\n",
    "\n",
    "# Lectura del dataset\n",
    "df_airbnb = pd.read_csv(\"data/airbnb.csv\")\n",
    "\n",
    "# Filtrar alojamientos\n",
    "alojamientos_filtrados = df_airbnb[(df_airbnb[\"price\"] <= 50) &\n",
    "                                  (df_airbnb[\"room_type\"] == \"Shared room\")]\n",
    "\n",
    "# Ordenar alojamientos\n",
    "alojamientos_filtrados = alojamientos_filtrados.sort_values(by=[\"price\"])\n",
    "\n",
    "# Seleccionar las 10 opciones más baratas\n",
    "mejores_opciones = alojamientos_filtrados.head(10)\n",
    "\n",
    "# Mostrar resultados\n",
    "for index, alojamiento in mejores_opciones.iterrows():\n",
    "    print(f\"\\n**Opción {index + 1}:**\")\n",
    "    print(f\"* Ubicación: {alojamiento['neighborhood']}\")\n",
    "    print(f\"* Tipo de habitación: {alojamiento['room_type']}\")\n",
    "    print(f\"* Precio por noche: {alojamiento['price']:.2f}€\")\n",
    "    if alojamiento[\"room_type\"] == \"Shared room\":\n",
    "        print(f\"* Calificación: {alojamiento['overall_satisfaction']:.2f} (Opiniones: {alojamiento['reviews']})\")\n",
    "    print(f\"* Más información: https://www.airbnb.com/rooms/{alojamiento['room_id']}\")\n"
   ]
  }
 ],
 "metadata": {
  "language_info": {
   "name": "python"
  }
 },
 "nbformat": 4,
 "nbformat_minor": 2
}
